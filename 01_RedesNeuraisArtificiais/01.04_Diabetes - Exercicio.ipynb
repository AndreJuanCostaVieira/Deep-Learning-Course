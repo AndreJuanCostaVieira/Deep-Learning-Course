{
 "cells": [
  {
   "cell_type": "markdown",
   "metadata": {
    "id": "GdyCQEsgThB_"
   },
   "source": [
    "Classificação de diabetes\n",
    "Retornar se tem ou não diabetes\n",
    "Então será um algoritmo supervisionado e teremos as entradas e saídas esperadas\n",
    "\n",
    "Neste caso da diabetes a rede neural irá retornar se tem ou não diabetes ou seja uma probabilidade entre 0 e 1 \n",
    "\n",
    "Portanto usaremos a função de ativação sigmoid que retorna uma probabilidade entre 0 e 1 não importando a entrada para esta função de ativação\n"
   ]
  },
  {
   "cell_type": "code",
   "execution_count": null,
   "metadata": {
    "id": "4JBu0cBKS2n9"
   },
   "outputs": [],
   "source": [
    "import tensorflow as tf\n",
    "import pandas as pd\n",
    "import numpy as np\n",
    "import matplotlib.pyplot as plt\n",
    "import seaborn as sns"
   ]
  },
  {
   "cell_type": "markdown",
   "metadata": {},
   "source": [
    "Criar o dataset"
   ]
  },
  {
   "cell_type": "code",
   "execution_count": null,
   "metadata": {
    "id": "LUSaBxgJTFgk"
   },
   "outputs": [],
   "source": []
  },
  {
   "cell_type": "markdown",
   "metadata": {
    "colab": {
     "base_uri": "https://localhost:8080/",
     "height": 435
    },
    "id": "YwfEePhbUGox",
    "outputId": "c8baeaa0-4ff0-4724-8ab2-324726c4bf7f"
   },
   "source": [
    "Plote um gráfico que mostre a quantidade de pessoas com/sem diabetes.\n",
    "Usar o seaborn.countplot"
   ]
  },
  {
   "cell_type": "code",
   "execution_count": null,
   "metadata": {},
   "outputs": [],
   "source": []
  },
  {
   "cell_type": "markdown",
   "metadata": {
    "colab": {
     "base_uri": "https://localhost:8080/",
     "height": 816
    },
    "id": "oNoawSiOUa6y",
    "outputId": "f47adc7a-b9f6-4bf2-a110-ec2b411ae823"
   },
   "source": [
    "Criar outros gráficos para ter insights sobre o dataset"
   ]
  },
  {
   "cell_type": "code",
   "execution_count": null,
   "metadata": {},
   "outputs": [],
   "source": []
  },
  {
   "cell_type": "markdown",
   "metadata": {
    "colab": {
     "base_uri": "https://localhost:8080/",
     "height": 390
    },
    "id": "04E0n6CxUd9f",
    "outputId": "d8b29cec-1bfe-4eeb-87e1-18c47100c092"
   },
   "source": [
    "Criar um gráfico de correlação utilizando o seaborn.heatmap"
   ]
  },
  {
   "cell_type": "code",
   "execution_count": null,
   "metadata": {
    "id": "gfeu7BG6VOp4"
   },
   "outputs": [],
   "source": []
  },
  {
   "cell_type": "markdown",
   "metadata": {
    "colab": {
     "base_uri": "https://localhost:8080/"
    },
    "id": "I6na3vcqVjZj",
    "outputId": "72fda2d3-362f-4ac3-ecb5-d2e6ad220e51"
   },
   "source": [
    "Crie os vetores de entrada e de saída "
   ]
  },
  {
   "cell_type": "code",
   "execution_count": null,
   "metadata": {
    "id": "JBZtJHTKVb-X"
   },
   "outputs": [],
   "source": []
  },
  {
   "cell_type": "markdown",
   "metadata": {
    "colab": {
     "base_uri": "https://localhost:8080/"
    },
    "id": "WtH_SRQoVgLY",
    "outputId": "69ab9ab0-af5f-42ae-b4d7-9aa844a6b9a2"
   },
   "source": [
    "Realize o escalonamento dos dados"
   ]
  },
  {
   "cell_type": "code",
   "execution_count": null,
   "metadata": {
    "id": "3HtSA7EUVpFG"
   },
   "outputs": [],
   "source": []
  },
  {
   "cell_type": "markdown",
   "metadata": {
    "colab": {
     "base_uri": "https://localhost:8080/"
    },
    "id": "IQaoWEiDV4de",
    "outputId": "2c19b253-fa81-4a5b-e5a8-e55b254f25ae"
   },
   "source": [
    "Faça o split dos dados"
   ]
  },
  {
   "cell_type": "code",
   "execution_count": null,
   "metadata": {
    "id": "MITBRNKJV8hY"
   },
   "outputs": [],
   "source": []
  },
  {
   "cell_type": "markdown",
   "metadata": {},
   "source": [
    "Crie uma rede neural MLP\n",
    "Caso a rede neural tiver muitas camadas ocultas, utilize camadas de dropout entre elas:\n",
    "model.add(tf.keras.layers.Dropout(0.2) )\n"
   ]
  },
  {
   "cell_type": "code",
   "execution_count": null,
   "metadata": {},
   "outputs": [],
   "source": []
  },
  {
   "cell_type": "markdown",
   "metadata": {},
   "source": [
    "Compile o modelo. Para esse exercício, utilize a função de perda 'binary_crossentropy' e métrica 'accuracy'.\n",
    "Otimizadores:\n",
    "https://keras.io/api/optimizers/\n",
    "Loss:\n",
    "https://keras.io/api/losses/"
   ]
  },
  {
   "cell_type": "code",
   "execution_count": null,
   "metadata": {},
   "outputs": [],
   "source": []
  },
  {
   "cell_type": "markdown",
   "metadata": {},
   "source": [
    "Realize o fit do modelo"
   ]
  },
  {
   "cell_type": "code",
   "execution_count": null,
   "metadata": {},
   "outputs": [],
   "source": []
  },
  {
   "cell_type": "markdown",
   "metadata": {},
   "source": [
    "Plot um gráfico que mostre o progresso do erro do modelo no decorrer do treinamento.\n"
   ]
  },
  {
   "cell_type": "code",
   "execution_count": null,
   "metadata": {},
   "outputs": [],
   "source": []
  },
  {
   "cell_type": "markdown",
   "metadata": {},
   "source": [
    "Plot um gráfico que mostre o progresso da acurácia "
   ]
  },
  {
   "cell_type": "code",
   "execution_count": null,
   "metadata": {},
   "outputs": [],
   "source": []
  },
  {
   "cell_type": "markdown",
   "metadata": {},
   "source": [
    "Avalie o modelo utilizando o relatório de classificação e a matriz de confusão. A função de perda utilizada é a \"Cross Entropy\" que retorna um valor probabilístico. Crie um threshold e compare os resultados. Exemplo: y_predicao = (y_predicao > 0.5)\n"
   ]
  },
  {
   "cell_type": "code",
   "execution_count": null,
   "metadata": {
    "id": "TKGfJDSldtR5"
   },
   "outputs": [],
   "source": []
  }
 ],
 "metadata": {
  "colab": {
   "collapsed_sections": [],
   "name": "02_19_NotasAulas_02marco2021.ipynb",
   "provenance": []
  },
  "kernelspec": {
   "display_name": "Python 3 (ipykernel)",
   "language": "python",
   "name": "python3"
  },
  "language_info": {
   "codemirror_mode": {
    "name": "ipython",
    "version": 3
   },
   "file_extension": ".py",
   "mimetype": "text/x-python",
   "name": "python",
   "nbconvert_exporter": "python",
   "pygments_lexer": "ipython3",
   "version": "3.9.7"
  }
 },
 "nbformat": 4,
 "nbformat_minor": 1
}
