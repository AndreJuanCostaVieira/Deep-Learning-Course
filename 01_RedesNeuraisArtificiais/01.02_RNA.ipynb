{
 "cells": [
  {
   "cell_type": "markdown",
   "metadata": {},
   "source": [
    "\n",
    "## Neurônios\n",
    "\n",
    "\n",
    "![neurônio](img/intro-to-neural-networks-scikit-learn-1.png)\n",
    "\n",
    "Como grande parte dos algoritmos de aprendizado de máquina, os neurônios são modelos matemáticos (ou funções) que representam a realidade de forma simplificada. Eles são compostos por uma soma ponderada, seguida ou não de uma função ativação. Por exemplo, considere a tarefa de prever se o preço de uma casa será maior ou menor do que a média, dadas as variáveis \\\\(x_1\\\\), o tamanho da casa em metros quadrados, \\\\(x_2\\\\), o índice de pobreza vizinhança e \\\\(x_3\\\\) o tamanho do meu cabelo. Podemos facilmente utilizar um neurônio para resolver essa tarefa. Note que, provavelmente, quanto maior \\\\(x_1\\\\), maior a probabilidade da casa ter um preço acima da média (e vice versa). Assim, devemos esperar que o peso de \\\\(x_1\\\\), \\\\(w_1\\\\), na soma ponderada do nosso neurônio seja positivo, indicando que essa variável tem um impacto igualmente positivo na probabilidade do preço da casa ser acima da média. Com o mesmo raciocínio, podemos argumentar que \\\\(w_2\\\\) será negativo. Note que esses dois pesos não precisam ter a mesma intensidade. Pode ser que o impacto positivo de \\\\(x_1\\\\) seja muito maior que o impacto negativo de \\\\(x_2\\\\), de forma que \\\\(w_1\\\\) seja maior que \\\\(w_2\\\\). Em palavras, pode ser que o tamanho da casa seja um determinante mais importante do preço do que o índice de pobreza da vizinhança. Por fim, é provável que o tamanho do meu cabelo, \\\\(x_3\\\\), não tenha muito impacto no preço de uma casa. Por isso, esperamos que \\\\(w_3\\\\) seja muito próximo de zero na soma ponderada do nosso neurônio. Isso indica que essa variável influencia pouco o preço da casa. Repare também que temos uma variável que é sempre \\\\(1\\\\). A ponderação desse \\\\(1\\\\) com o \\\\(w_0\\\\) é o que chamamos de viés. Esse viés captura a tendência da casa ter valor alto, uma vez que já tenhamos considerado as outras variáveis. Por fim, é importante ressaltar que os \\\\(w\\\\)s são o que chamamos de parâmetros do modelo. Eles são variáveis que o neurônio (e, mais para frente, a rede neural) vai aprender (ou estimar) durante o treinamento.\n",
    "\n",
    "Além da soma ponderada, nosso neurônio precisa de uma função de ativação. Isso porque a soma ponderada pode nos dar um resultado qualquer, mas, como nossa previsão é uma probabilidade, precisamos de uma função ativação que converta um número qualquer, positivo ou negativo, em um valor entre 0 e 1. A função que faz isso chama função [softmax](https://en.wikipedia.org/wiki/Softmax_function), então a usaremos após a soma ponderada do nosso neurônio. Existem várias funções de ativação e, dependendo da tarefa em questão, uma é mais recomendada do que outra. Infelizmente, para falar delas é preciso mais conhecimento matemático. Intuitivamente, quando falarmos delas nas redes neurais, pense na função ativação como algo que dá um comportamento mais complexo aos neurônios. Elas também são fundamentais nas redes neurais, para que essas consigam representar padrões complexos. \n",
    "\n",
    "## Redes Neurais Artificiais\n",
    "\n",
    "Infelizmente, os neurônios são bastante limitados. Em aprendizado de máquina, queremos que um algoritmo possa aprender qualquer tipo de padrão presente nos dados, mas isso não é possível com um simples neurônio. Por isso, construímos as redes neurais, que são simplesmente vários neurônios conectados. Pense nos neurônios como blocos de Lego e nas redes neurais como estruturas que montamos empilhando esses blocos de Lego. Dependendo da tarefa, uma estrutura pode se mais útil do que outra. No entanto, aqui, vamos considerar apenas a estrutura mais simples e mais comun de rede neural, o modelo de **redes neurais *feedforward* densas**.\n",
    "\n",
    "![neurônio](img/neural-network.png)\n",
    "\n",
    "Na rede neural acima, como exemplo, podemos dizer que ainda estamos lidando com o problema de prever se o preço de uma casa será acima ou abaixo da média. Na entrada da rede, temos as mesmas 3 variáveis mais o viés, que são representados pelas bolinhas verdes. Isso é o que chamamos de camada de entrada da rede neural. Em seguida, utilizando 5 neurônios, realizamos 5 somas ponderadas seguidas de uma função de ativação. Essas operações são representadas pelas bolinhas azuis, que recebem o nome de camada oculta da rede neural. Por fim, utilizamos um único neurônio que realiza uma soma ponderada do resultado dos neurônios anteriores e então converte essa soma ponderada em uma probabilidade com a função softmax. Isso é o que chamamos de camada de saída da rede neural e está representado pela bolinha vermelha.\n",
    "\n",
    "Ignore a camada de entrada (verde) por um momento. Note como a camada de saída mais a camada oculta é exatamente o modelo de neurônio que vimos antes? A camada de saída é simplesmente um modelo de neurônio, que está tratando a camada oculta como se fosse as variáveis independentes que determinam a variável de resposta (no nosso exemplo, a probabilidade do preço da casa ser alto). Assim, podemos ver que a rede neural está **aprendendo novas variáveis** e usando um modelo de neurônio nessas novas variáveis. Esse é o princípio básico de *deep learning*: aprender variáveis representativas, geralmente mais abstratas, que auxiliem na tarefa em questão, no caso, uma tarefa de previsão.\n",
    "\n",
    "Podemos ir ainda um passo além e adicionar uma segunda camada oculta. \n",
    "\n",
    "![neurônio](img/neural_net2.jpeg)\n",
    "\n",
    "Isso aumenta ainda mais o poder representativo da rede neural. Lembre-se de que **podemos pensar nas camadas da rede neural como níveis hierárquicos de abstração**.\n",
    "\n",
    "## Treinando RNAs\n",
    "\n",
    "Agora que entendemos o que são redes neurais em um nível intuitivo, precisamos saber como treiná-las. Isso é feito por um processo de otimização no qual minimizamos uma função custo (ou objetivo). Para manter o nível de simplicidade, pense na função custo como algo que mede a diferença entre o que a rede neural prevê o que de fato foi observado. Por exemplo, se a rede neural prever um valor pequeno para a probabilidade de uma casa ter preço acima da média, mas a casa, na verdade, for bastante cara, então a função custo terá um valor alto.\n",
    "\n",
    "Para iniciar o treinamento, vamos chutar alguns valores para os \\\\(w\\\\)s de cada neurônio. Em seguida, vamos ver a previsão da rede neural em alguns dados, que, muito provavelmente, será péssima. Dessa forma, os \\\\(w\\\\)s iniciais serão associados a um alto custo ou a uma **região elevada na superfície de custo**. No treinamento então, vamos atualizar os \\\\(w\\\\)s de maneira iterativa, de forma a diminuir o custo. Isso é feito com a técnica de gradiente descendente estocástico, que pode ser entendida como uma descida na superfície de custo de uma tarefa de otimização.\n",
    "\n",
    "![neurônio](img/perceptron_gradient_descent_1.png)\n",
    "\n",
    "Para entender a fundo essa técnica, é preciso saber cálculo multivariado, mas, intuitivamente, ela é bem simples. Em primeiro lugar, pegamos aleatoriamente (daí a palavra estocástico) um pequeno punhado de dados para conseguir uma estimativa da nossa posição na superfície de custo. Então, movemos os parâmetros \\\\(w\\\\) na direção oposta da inclinação dessa superfície. Isso é como dar um passo para baixo na superfície de custo. Com passos suficientes, nossa esperança é que os \\\\(w\\\\) nos coloque em uma região de custo (ou erro) baixa o suficiente."
   ]
  },
  {
   "cell_type": "markdown",
   "metadata": {},
   "source": [
    "## Construindo e Treinando uma Rede Neural Artificial\n",
    "\n",
    "### Exemplo com dataset Iris\n",
    "\n",
    "Agora sabemos o que são redes neurais e quais são as diferentes etapas que precisamos executar para construir uma rede neural simples e densamente conectada. Nesta seção, tentaremos construir uma rede neural simples que preveja a classe à qual uma determinada planta de íris pertence. Usaremos a biblioteca Scikit-Learn do Python para criar nossa rede neural que executa essa tarefa de classificação. As instruções de download e instalação da biblioteca Scikit-Learn estão disponíveis em: http://scikit-learn.org/stable/install.html"
   ]
  },
  {
   "cell_type": "markdown",
   "metadata": {},
   "source": [
    "# Dados\n",
    "O conjunto de dados que vamos usar para este tutorial é o popular conjunto de dados Iris, disponível em https://archive.ics.uci.edu/ml/datasets/iris. Os detalhes do conjunto de dados estão disponíveis no link mencionado acima.\n",
    "\n",
    "Vamos pular direto para o código. O primeiro passo é importar esse conjunto de dados para o nosso programa. Para fazer isso, usaremos a biblioteca de pandas do Python.\n",
    "\n",
    "Execute o seguinte comando para carregar o conjunto de dados da íris em um quadro de dados Python:"
   ]
  },
  {
   "cell_type": "code",
   "execution_count": 24,
   "metadata": {},
   "outputs": [],
   "source": [
    "import pandas as pd\n",
    "\n",
    "# obtendo dataset\n",
    "url = \"https://archive.ics.uci.edu/ml/machine-learning-databases/iris/iris.data\"\n",
    "\n",
    "# Atribuir nomes de coluna ao conjunto de dados\n",
    "names = ['sepal-length', 'sepal-width', 'petal-length', 'petal-width', 'Class']\n",
    "\n",
    "# convertendo dataset para Dataframe em pandas\n",
    "irisdata = pd.read_csv(url, names=names)"
   ]
  },
  {
   "cell_type": "markdown",
   "metadata": {},
   "source": [
    "O script acima simplesmente baixa os dados da íris, atribui os nomes, como 'comprimento da sépala', 'largura da sépala', 'comprimento da pétala', 'largura da pétala' e 'Classe' às colunas do conjunto de dados e, em seguida, carrega-o no dataframe irisdata.\n",
    "\n",
    "Para ver como esse conjunto de dados realmente se parece, execute o seguinte comando:"
   ]
  },
  {
   "cell_type": "code",
   "execution_count": 25,
   "metadata": {},
   "outputs": [
    {
     "data": {
      "text/html": [
       "<div>\n",
       "<style scoped>\n",
       "    .dataframe tbody tr th:only-of-type {\n",
       "        vertical-align: middle;\n",
       "    }\n",
       "\n",
       "    .dataframe tbody tr th {\n",
       "        vertical-align: top;\n",
       "    }\n",
       "\n",
       "    .dataframe thead th {\n",
       "        text-align: right;\n",
       "    }\n",
       "</style>\n",
       "<table border=\"1\" class=\"dataframe\">\n",
       "  <thead>\n",
       "    <tr style=\"text-align: right;\">\n",
       "      <th></th>\n",
       "      <th>sepal-length</th>\n",
       "      <th>sepal-width</th>\n",
       "      <th>petal-length</th>\n",
       "      <th>petal-width</th>\n",
       "      <th>Class</th>\n",
       "    </tr>\n",
       "  </thead>\n",
       "  <tbody>\n",
       "    <tr>\n",
       "      <th>0</th>\n",
       "      <td>5.1</td>\n",
       "      <td>3.5</td>\n",
       "      <td>1.4</td>\n",
       "      <td>0.2</td>\n",
       "      <td>Iris-setosa</td>\n",
       "    </tr>\n",
       "    <tr>\n",
       "      <th>1</th>\n",
       "      <td>4.9</td>\n",
       "      <td>3.0</td>\n",
       "      <td>1.4</td>\n",
       "      <td>0.2</td>\n",
       "      <td>Iris-setosa</td>\n",
       "    </tr>\n",
       "    <tr>\n",
       "      <th>2</th>\n",
       "      <td>4.7</td>\n",
       "      <td>3.2</td>\n",
       "      <td>1.3</td>\n",
       "      <td>0.2</td>\n",
       "      <td>Iris-setosa</td>\n",
       "    </tr>\n",
       "    <tr>\n",
       "      <th>3</th>\n",
       "      <td>4.6</td>\n",
       "      <td>3.1</td>\n",
       "      <td>1.5</td>\n",
       "      <td>0.2</td>\n",
       "      <td>Iris-setosa</td>\n",
       "    </tr>\n",
       "    <tr>\n",
       "      <th>4</th>\n",
       "      <td>5.0</td>\n",
       "      <td>3.6</td>\n",
       "      <td>1.4</td>\n",
       "      <td>0.2</td>\n",
       "      <td>Iris-setosa</td>\n",
       "    </tr>\n",
       "  </tbody>\n",
       "</table>\n",
       "</div>"
      ],
      "text/plain": [
       "   sepal-length  sepal-width  petal-length  petal-width        Class\n",
       "0           5.1          3.5           1.4          0.2  Iris-setosa\n",
       "1           4.9          3.0           1.4          0.2  Iris-setosa\n",
       "2           4.7          3.2           1.3          0.2  Iris-setosa\n",
       "3           4.6          3.1           1.5          0.2  Iris-setosa\n",
       "4           5.0          3.6           1.4          0.2  Iris-setosa"
      ]
     },
     "execution_count": 25,
     "metadata": {},
     "output_type": "execute_result"
    }
   ],
   "source": [
    "irisdata.head()\n",
    "#A execução do script acima exibirá as cinco primeiras linhas do nosso conjunto de dados, conforme mostrado abaixo:"
   ]
  },
  {
   "cell_type": "markdown",
   "metadata": {},
   "source": [
    "# Pré-processando\n",
    "Você pode ver que nosso conjunto de dados possui cinco colunas. A tarefa é prever a classe (que são os valores da quinta coluna) à qual a planta da íris pertence, com base no comprimento da sépala, largura da sépala, comprimento da pétala e largura da pétala (as quatro primeiras colunas) . O próximo passo é dividir nosso conjunto de dados em atributos e rótulos. Execute o seguinte script para fazer isso:"
   ]
  },
  {
   "cell_type": "code",
   "execution_count": 27,
   "metadata": {},
   "outputs": [],
   "source": [
    "# Atribuir dados das quatro primeiras colunas à variável X\n",
    "# Dados de entrada \n",
    "# Neurônios de entrada\n",
    "X = irisdata.iloc[:, 0:4]\n",
    "\n",
    "# Atribuir dados da primeira quinta coluna à variável y\n",
    "# Dados de saída \n",
    "# Neurônios de saída\n",
    "y = irisdata.select_dtypes(include=[object])"
   ]
  },
  {
   "cell_type": "code",
   "execution_count": 28,
   "metadata": {},
   "outputs": [
    {
     "data": {
      "text/html": [
       "<div>\n",
       "<style scoped>\n",
       "    .dataframe tbody tr th:only-of-type {\n",
       "        vertical-align: middle;\n",
       "    }\n",
       "\n",
       "    .dataframe tbody tr th {\n",
       "        vertical-align: top;\n",
       "    }\n",
       "\n",
       "    .dataframe thead th {\n",
       "        text-align: right;\n",
       "    }\n",
       "</style>\n",
       "<table border=\"1\" class=\"dataframe\">\n",
       "  <thead>\n",
       "    <tr style=\"text-align: right;\">\n",
       "      <th></th>\n",
       "      <th>Class</th>\n",
       "    </tr>\n",
       "  </thead>\n",
       "  <tbody>\n",
       "    <tr>\n",
       "      <th>0</th>\n",
       "      <td>Iris-setosa</td>\n",
       "    </tr>\n",
       "    <tr>\n",
       "      <th>1</th>\n",
       "      <td>Iris-setosa</td>\n",
       "    </tr>\n",
       "    <tr>\n",
       "      <th>2</th>\n",
       "      <td>Iris-setosa</td>\n",
       "    </tr>\n",
       "    <tr>\n",
       "      <th>3</th>\n",
       "      <td>Iris-setosa</td>\n",
       "    </tr>\n",
       "    <tr>\n",
       "      <th>4</th>\n",
       "      <td>Iris-setosa</td>\n",
       "    </tr>\n",
       "  </tbody>\n",
       "</table>\n",
       "</div>"
      ],
      "text/plain": [
       "         Class\n",
       "0  Iris-setosa\n",
       "1  Iris-setosa\n",
       "2  Iris-setosa\n",
       "3  Iris-setosa\n",
       "4  Iris-setosa"
      ]
     },
     "execution_count": 28,
     "metadata": {},
     "output_type": "execute_result"
    }
   ],
   "source": [
    "#Para ver como é y, execute o seguinte código:\n",
    "y.head()"
   ]
  },
  {
   "cell_type": "markdown",
   "metadata": {},
   "source": [
    "Você pode ver que os valores na série y são categóricos. No entanto, redes neurais funcionam melhor com dados numéricos. Nossa próxima tarefa é converter esses valores categóricos em valores numéricos. Mas primeiro vamos ver quantos valores únicos temos em nossa série y. Execute o seguinte script:"
   ]
  },
  {
   "cell_type": "code",
   "execution_count": 30,
   "metadata": {},
   "outputs": [
    {
     "data": {
      "text/plain": [
       "array(['Iris-setosa', 'Iris-versicolor', 'Iris-virginica'], dtype=object)"
      ]
     },
     "execution_count": 30,
     "metadata": {},
     "output_type": "execute_result"
    }
   ],
   "source": [
    "y.Class.unique()"
   ]
  },
  {
   "cell_type": "code",
   "execution_count": 32,
   "metadata": {},
   "outputs": [
    {
     "data": {
      "text/plain": [
       "array(['Iris-setosa', 'Iris-versicolor', 'Iris-virginica'], dtype=object)"
      ]
     },
     "execution_count": 32,
     "metadata": {},
     "output_type": "execute_result"
    }
   ],
   "source": [
    "y['Class'].unique()"
   ]
  },
  {
   "cell_type": "markdown",
   "metadata": {},
   "source": [
    "Temos três classes únicas 'Iris-setosa', 'Iris-versicolor' e 'Iris-virginica'. Vamos converter esses valores categóricos em valores numéricos. Para fazer isso, usaremos a classe LabelEncoder do Scikit-Learn.\n",
    "\n",
    "Execute o seguinte script:"
   ]
  },
  {
   "cell_type": "code",
   "execution_count": 33,
   "metadata": {},
   "outputs": [],
   "source": [
    "from sklearn import preprocessing\n",
    "le = preprocessing.LabelEncoder()\n",
    "\n",
    "y = y.apply(le.fit_transform)"
   ]
  },
  {
   "cell_type": "markdown",
   "metadata": {},
   "source": [
    "Agora, se você verificar novamente valores exclusivos na série y, verá os seguintes resultados:"
   ]
  },
  {
   "cell_type": "code",
   "execution_count": 37,
   "metadata": {},
   "outputs": [
    {
     "data": {
      "text/plain": [
       "array([0, 1, 2])"
      ]
     },
     "execution_count": 37,
     "metadata": {},
     "output_type": "execute_result"
    }
   ],
   "source": [
    "y.Class.unique()"
   ]
  },
  {
   "cell_type": "code",
   "execution_count": 38,
   "metadata": {},
   "outputs": [
    {
     "data": {
      "text/html": [
       "<div>\n",
       "<style scoped>\n",
       "    .dataframe tbody tr th:only-of-type {\n",
       "        vertical-align: middle;\n",
       "    }\n",
       "\n",
       "    .dataframe tbody tr th {\n",
       "        vertical-align: top;\n",
       "    }\n",
       "\n",
       "    .dataframe thead th {\n",
       "        text-align: right;\n",
       "    }\n",
       "</style>\n",
       "<table border=\"1\" class=\"dataframe\">\n",
       "  <thead>\n",
       "    <tr style=\"text-align: right;\">\n",
       "      <th></th>\n",
       "      <th>Class</th>\n",
       "    </tr>\n",
       "  </thead>\n",
       "  <tbody>\n",
       "    <tr>\n",
       "      <th>0</th>\n",
       "      <td>0</td>\n",
       "    </tr>\n",
       "    <tr>\n",
       "      <th>1</th>\n",
       "      <td>0</td>\n",
       "    </tr>\n",
       "    <tr>\n",
       "      <th>2</th>\n",
       "      <td>0</td>\n",
       "    </tr>\n",
       "    <tr>\n",
       "      <th>3</th>\n",
       "      <td>0</td>\n",
       "    </tr>\n",
       "    <tr>\n",
       "      <th>4</th>\n",
       "      <td>0</td>\n",
       "    </tr>\n",
       "    <tr>\n",
       "      <th>...</th>\n",
       "      <td>...</td>\n",
       "    </tr>\n",
       "    <tr>\n",
       "      <th>145</th>\n",
       "      <td>2</td>\n",
       "    </tr>\n",
       "    <tr>\n",
       "      <th>146</th>\n",
       "      <td>2</td>\n",
       "    </tr>\n",
       "    <tr>\n",
       "      <th>147</th>\n",
       "      <td>2</td>\n",
       "    </tr>\n",
       "    <tr>\n",
       "      <th>148</th>\n",
       "      <td>2</td>\n",
       "    </tr>\n",
       "    <tr>\n",
       "      <th>149</th>\n",
       "      <td>2</td>\n",
       "    </tr>\n",
       "  </tbody>\n",
       "</table>\n",
       "<p>150 rows × 1 columns</p>\n",
       "</div>"
      ],
      "text/plain": [
       "     Class\n",
       "0        0\n",
       "1        0\n",
       "2        0\n",
       "3        0\n",
       "4        0\n",
       "..     ...\n",
       "145      2\n",
       "146      2\n",
       "147      2\n",
       "148      2\n",
       "149      2\n",
       "\n",
       "[150 rows x 1 columns]"
      ]
     },
     "execution_count": 38,
     "metadata": {},
     "output_type": "execute_result"
    }
   ],
   "source": [
    "y"
   ]
  },
  {
   "cell_type": "code",
   "execution_count": 36,
   "metadata": {},
   "outputs": [
    {
     "data": {
      "text/html": [
       "<div>\n",
       "<style scoped>\n",
       "    .dataframe tbody tr th:only-of-type {\n",
       "        vertical-align: middle;\n",
       "    }\n",
       "\n",
       "    .dataframe tbody tr th {\n",
       "        vertical-align: top;\n",
       "    }\n",
       "\n",
       "    .dataframe thead th {\n",
       "        text-align: right;\n",
       "    }\n",
       "</style>\n",
       "<table border=\"1\" class=\"dataframe\">\n",
       "  <thead>\n",
       "    <tr style=\"text-align: right;\">\n",
       "      <th></th>\n",
       "      <th>sepal-length</th>\n",
       "      <th>sepal-width</th>\n",
       "      <th>petal-length</th>\n",
       "      <th>petal-width</th>\n",
       "    </tr>\n",
       "  </thead>\n",
       "  <tbody>\n",
       "    <tr>\n",
       "      <th>0</th>\n",
       "      <td>5.1</td>\n",
       "      <td>3.5</td>\n",
       "      <td>1.4</td>\n",
       "      <td>0.2</td>\n",
       "    </tr>\n",
       "    <tr>\n",
       "      <th>1</th>\n",
       "      <td>4.9</td>\n",
       "      <td>3.0</td>\n",
       "      <td>1.4</td>\n",
       "      <td>0.2</td>\n",
       "    </tr>\n",
       "    <tr>\n",
       "      <th>2</th>\n",
       "      <td>4.7</td>\n",
       "      <td>3.2</td>\n",
       "      <td>1.3</td>\n",
       "      <td>0.2</td>\n",
       "    </tr>\n",
       "    <tr>\n",
       "      <th>3</th>\n",
       "      <td>4.6</td>\n",
       "      <td>3.1</td>\n",
       "      <td>1.5</td>\n",
       "      <td>0.2</td>\n",
       "    </tr>\n",
       "    <tr>\n",
       "      <th>4</th>\n",
       "      <td>5.0</td>\n",
       "      <td>3.6</td>\n",
       "      <td>1.4</td>\n",
       "      <td>0.2</td>\n",
       "    </tr>\n",
       "    <tr>\n",
       "      <th>...</th>\n",
       "      <td>...</td>\n",
       "      <td>...</td>\n",
       "      <td>...</td>\n",
       "      <td>...</td>\n",
       "    </tr>\n",
       "    <tr>\n",
       "      <th>145</th>\n",
       "      <td>6.7</td>\n",
       "      <td>3.0</td>\n",
       "      <td>5.2</td>\n",
       "      <td>2.3</td>\n",
       "    </tr>\n",
       "    <tr>\n",
       "      <th>146</th>\n",
       "      <td>6.3</td>\n",
       "      <td>2.5</td>\n",
       "      <td>5.0</td>\n",
       "      <td>1.9</td>\n",
       "    </tr>\n",
       "    <tr>\n",
       "      <th>147</th>\n",
       "      <td>6.5</td>\n",
       "      <td>3.0</td>\n",
       "      <td>5.2</td>\n",
       "      <td>2.0</td>\n",
       "    </tr>\n",
       "    <tr>\n",
       "      <th>148</th>\n",
       "      <td>6.2</td>\n",
       "      <td>3.4</td>\n",
       "      <td>5.4</td>\n",
       "      <td>2.3</td>\n",
       "    </tr>\n",
       "    <tr>\n",
       "      <th>149</th>\n",
       "      <td>5.9</td>\n",
       "      <td>3.0</td>\n",
       "      <td>5.1</td>\n",
       "      <td>1.8</td>\n",
       "    </tr>\n",
       "  </tbody>\n",
       "</table>\n",
       "<p>150 rows × 4 columns</p>\n",
       "</div>"
      ],
      "text/plain": [
       "     sepal-length  sepal-width  petal-length  petal-width\n",
       "0             5.1          3.5           1.4          0.2\n",
       "1             4.9          3.0           1.4          0.2\n",
       "2             4.7          3.2           1.3          0.2\n",
       "3             4.6          3.1           1.5          0.2\n",
       "4             5.0          3.6           1.4          0.2\n",
       "..            ...          ...           ...          ...\n",
       "145           6.7          3.0           5.2          2.3\n",
       "146           6.3          2.5           5.0          1.9\n",
       "147           6.5          3.0           5.2          2.0\n",
       "148           6.2          3.4           5.4          2.3\n",
       "149           5.9          3.0           5.1          1.8\n",
       "\n",
       "[150 rows x 4 columns]"
      ]
     },
     "execution_count": 36,
     "metadata": {},
     "output_type": "execute_result"
    }
   ],
   "source": [
    "X"
   ]
  },
  {
   "cell_type": "markdown",
   "metadata": {},
   "source": [
    "Você pode ver que os valores categóricos foram codificados para valores numéricos, ou seja, 0, 1 e 2."
   ]
  },
  {
   "cell_type": "markdown",
   "metadata": {},
   "source": [
    "# Train Test Split\n",
    "\n",
    "Para evitar ajustes excessivos, dividiremos nosso conjunto de dados em treinamentos e divisões de teste. Os dados de treinamento serão usados para treinar a rede neural e os dados de teste serão usados para avaliar o desempenho da rede neural. Isso ajuda no problema de excesso de ajuste, porque estamos avaliando nossa rede neural em dados que eles não viram (ou seja, foram treinados) antes.\n",
    "\n",
    "Para criar divisões de treinamento e teste, execute o seguinte script:"
   ]
  },
  {
   "cell_type": "code",
   "execution_count": 39,
   "metadata": {},
   "outputs": [],
   "source": [
    "from sklearn.model_selection import train_test_split\n",
    "X_train, X_test, y_train, y_test = train_test_split(X, y, test_size = 0.20)"
   ]
  },
  {
   "cell_type": "code",
   "execution_count": 42,
   "metadata": {},
   "outputs": [
    {
     "data": {
      "text/plain": [
       "(120, 4)"
      ]
     },
     "execution_count": 42,
     "metadata": {},
     "output_type": "execute_result"
    }
   ],
   "source": [
    "X_train.shape"
   ]
  },
  {
   "cell_type": "code",
   "execution_count": 45,
   "metadata": {},
   "outputs": [
    {
     "data": {
      "text/html": [
       "<div>\n",
       "<style scoped>\n",
       "    .dataframe tbody tr th:only-of-type {\n",
       "        vertical-align: middle;\n",
       "    }\n",
       "\n",
       "    .dataframe tbody tr th {\n",
       "        vertical-align: top;\n",
       "    }\n",
       "\n",
       "    .dataframe thead th {\n",
       "        text-align: right;\n",
       "    }\n",
       "</style>\n",
       "<table border=\"1\" class=\"dataframe\">\n",
       "  <thead>\n",
       "    <tr style=\"text-align: right;\">\n",
       "      <th></th>\n",
       "      <th>sepal-length</th>\n",
       "      <th>sepal-width</th>\n",
       "      <th>petal-length</th>\n",
       "      <th>petal-width</th>\n",
       "    </tr>\n",
       "  </thead>\n",
       "  <tbody>\n",
       "    <tr>\n",
       "      <th>21</th>\n",
       "      <td>5.1</td>\n",
       "      <td>3.7</td>\n",
       "      <td>1.5</td>\n",
       "      <td>0.4</td>\n",
       "    </tr>\n",
       "    <tr>\n",
       "      <th>44</th>\n",
       "      <td>5.1</td>\n",
       "      <td>3.8</td>\n",
       "      <td>1.9</td>\n",
       "      <td>0.4</td>\n",
       "    </tr>\n",
       "    <tr>\n",
       "      <th>132</th>\n",
       "      <td>6.4</td>\n",
       "      <td>2.8</td>\n",
       "      <td>5.6</td>\n",
       "      <td>2.2</td>\n",
       "    </tr>\n",
       "    <tr>\n",
       "      <th>23</th>\n",
       "      <td>5.1</td>\n",
       "      <td>3.3</td>\n",
       "      <td>1.7</td>\n",
       "      <td>0.5</td>\n",
       "    </tr>\n",
       "    <tr>\n",
       "      <th>95</th>\n",
       "      <td>5.7</td>\n",
       "      <td>3.0</td>\n",
       "      <td>4.2</td>\n",
       "      <td>1.2</td>\n",
       "    </tr>\n",
       "    <tr>\n",
       "      <th>...</th>\n",
       "      <td>...</td>\n",
       "      <td>...</td>\n",
       "      <td>...</td>\n",
       "      <td>...</td>\n",
       "    </tr>\n",
       "    <tr>\n",
       "      <th>16</th>\n",
       "      <td>5.4</td>\n",
       "      <td>3.9</td>\n",
       "      <td>1.3</td>\n",
       "      <td>0.4</td>\n",
       "    </tr>\n",
       "    <tr>\n",
       "      <th>103</th>\n",
       "      <td>6.3</td>\n",
       "      <td>2.9</td>\n",
       "      <td>5.6</td>\n",
       "      <td>1.8</td>\n",
       "    </tr>\n",
       "    <tr>\n",
       "      <th>40</th>\n",
       "      <td>5.0</td>\n",
       "      <td>3.5</td>\n",
       "      <td>1.3</td>\n",
       "      <td>0.3</td>\n",
       "    </tr>\n",
       "    <tr>\n",
       "      <th>41</th>\n",
       "      <td>4.5</td>\n",
       "      <td>2.3</td>\n",
       "      <td>1.3</td>\n",
       "      <td>0.3</td>\n",
       "    </tr>\n",
       "    <tr>\n",
       "      <th>96</th>\n",
       "      <td>5.7</td>\n",
       "      <td>2.9</td>\n",
       "      <td>4.2</td>\n",
       "      <td>1.3</td>\n",
       "    </tr>\n",
       "  </tbody>\n",
       "</table>\n",
       "<p>120 rows × 4 columns</p>\n",
       "</div>"
      ],
      "text/plain": [
       "     sepal-length  sepal-width  petal-length  petal-width\n",
       "21            5.1          3.7           1.5          0.4\n",
       "44            5.1          3.8           1.9          0.4\n",
       "132           6.4          2.8           5.6          2.2\n",
       "23            5.1          3.3           1.7          0.5\n",
       "95            5.7          3.0           4.2          1.2\n",
       "..            ...          ...           ...          ...\n",
       "16            5.4          3.9           1.3          0.4\n",
       "103           6.3          2.9           5.6          1.8\n",
       "40            5.0          3.5           1.3          0.3\n",
       "41            4.5          2.3           1.3          0.3\n",
       "96            5.7          2.9           4.2          1.3\n",
       "\n",
       "[120 rows x 4 columns]"
      ]
     },
     "execution_count": 45,
     "metadata": {},
     "output_type": "execute_result"
    }
   ],
   "source": [
    "X_train"
   ]
  },
  {
   "cell_type": "code",
   "execution_count": 47,
   "metadata": {},
   "outputs": [
    {
     "data": {
      "text/plain": [
       "(120, 1)"
      ]
     },
     "execution_count": 47,
     "metadata": {},
     "output_type": "execute_result"
    }
   ],
   "source": [
    "y_train.shape"
   ]
  },
  {
   "cell_type": "code",
   "execution_count": 49,
   "metadata": {},
   "outputs": [
    {
     "data": {
      "text/plain": [
       "(30, 4)"
      ]
     },
     "execution_count": 49,
     "metadata": {},
     "output_type": "execute_result"
    }
   ],
   "source": [
    "X_test.shape"
   ]
  },
  {
   "cell_type": "code",
   "execution_count": 50,
   "metadata": {},
   "outputs": [
    {
     "data": {
      "text/plain": [
       "(30, 1)"
      ]
     },
     "execution_count": 50,
     "metadata": {},
     "output_type": "execute_result"
    }
   ],
   "source": [
    "y_test.shape"
   ]
  },
  {
   "cell_type": "markdown",
   "metadata": {},
   "source": [
    "O script acima divide 80% do conjunto de dados em nosso conjunto de treinamento e os outros 20% para testar dados."
   ]
  },
  {
   "cell_type": "markdown",
   "metadata": {},
   "source": [
    "# Escala de recursos\n",
    "\n",
    "Antes de fazer previsões reais, é sempre uma boa prática dimensionar os recursos para que todos possam ser avaliados de maneira uniforme. A escala do recurso é realizada apenas nos dados de treinamento e não nos dados de teste. Isso ocorre porque, no mundo real, os dados não são dimensionados e o objetivo final da rede neural é fazer previsões sobre dados do mundo real. Portanto, tentamos manter nossos dados de teste o mais reais possível.\n",
    "\n",
    "O script a seguir executa o dimensionamento de recursos:"
   ]
  },
  {
   "cell_type": "code",
   "execution_count": 51,
   "metadata": {},
   "outputs": [],
   "source": [
    "from sklearn.preprocessing import StandardScaler\n",
    "scaler = StandardScaler()\n",
    "scaler.fit(X_train)\n",
    "\n",
    "X_train = scaler.transform(X_train)\n",
    "X_test = scaler.transform(X_test)"
   ]
  },
  {
   "cell_type": "markdown",
   "metadata": {},
   "source": [
    "# Treinamento e Previsões\n",
    "\n",
    "### Definindo os hiper-parâmetros\n",
    "Tudo parece OK com os nossos dados. Podemos então começar a construção da rede neural. O primeiro passo é definir os hiper-parâmetros do modelo. Diferentemente dos parâmetros da rede, os \\\\(w\\\\), os hiper-parâmetros não são naturalmente aprendidos durante o treinamento e devem ser ajustados à mão. Alguns dos hiper-parâmetros mais importantes da rede neural são o número de camadas e o número de neurônios em cada camada. Esses hiper-parâmetros definem a capacidade da rede neural e, por meio deles, podemos ajustar o *trade-off* entre erro por viés e por variância. Quanto maior o número de neurônios, mais potente será a rede neural, mas maior será a probabilidade dela sofrer com sobre-ajustamento.\n",
    "\n",
    "Outros hiper-parâmetros da rede neural são o tamanho do punhado de dados usado durante a otimização e o tamanho do passo dado a cada iteração de treino. Em outras palavras, o tamanho do punhado de dados define quão precisa será nossa estimativa local da superfície de custo, enquanto que a taxa de aprendizado definirá o tamanho do passo em cada descida nessa superfície de custo."
   ]
  },
  {
   "cell_type": "code",
   "execution_count": 52,
   "metadata": {},
   "outputs": [],
   "source": [
    "# definindo constantes\n",
    "lr = 0.1 # taxa de aprendizado\n",
    "n_iter = 10 # número de iterações de treino"
   ]
  },
  {
   "cell_type": "markdown",
   "metadata": {},
   "source": [
    "E agora chegou a hora de fazer o que você estava esperando, treinar uma rede neural que possa realmente fazer previsões. Para fazer isso, execute o seguinte script:"
   ]
  },
  {
   "cell_type": "code",
   "execution_count": 53,
   "metadata": {},
   "outputs": [],
   "source": [
    "from sklearn.neural_network import MLPClassifier"
   ]
  },
  {
   "cell_type": "code",
   "execution_count": 68,
   "metadata": {},
   "outputs": [],
   "source": [
    "mlp = MLPClassifier(hidden_layer_sizes=(11,12,13), max_iter=n_iter, learning_rate_init=lr, \n",
    "                    solver='adam', activation='relu')"
   ]
  },
  {
   "cell_type": "code",
   "execution_count": 65,
   "metadata": {},
   "outputs": [
    {
     "data": {
      "text/plain": [
       "(120, 1)"
      ]
     },
     "execution_count": 65,
     "metadata": {},
     "output_type": "execute_result"
    }
   ],
   "source": [
    "y_train.shape"
   ]
  },
  {
   "cell_type": "code",
   "execution_count": 66,
   "metadata": {},
   "outputs": [
    {
     "data": {
      "text/plain": [
       "(120,)"
      ]
     },
     "execution_count": 66,
     "metadata": {},
     "output_type": "execute_result"
    }
   ],
   "source": [
    "y_train.values.ravel().shape"
   ]
  },
  {
   "cell_type": "code",
   "execution_count": 69,
   "metadata": {},
   "outputs": [
    {
     "name": "stderr",
     "output_type": "stream",
     "text": [
      "/usr/local/lib/python3.8/site-packages/sklearn/neural_network/_multilayer_perceptron.py:582: ConvergenceWarning: Stochastic Optimizer: Maximum iterations (10) reached and the optimization hasn't converged yet.\n",
      "  warnings.warn(\n"
     ]
    },
    {
     "data": {
      "text/plain": [
       "MLPClassifier(hidden_layer_sizes=(11, 12, 13), learning_rate_init=0.1,\n",
       "              max_iter=10)"
      ]
     },
     "execution_count": 69,
     "metadata": {},
     "output_type": "execute_result"
    }
   ],
   "source": [
    "mlp.fit(X_train, y_train.values.ravel())"
   ]
  },
  {
   "cell_type": "markdown",
   "metadata": {},
   "source": [
    "Sim, com o Scikit-Learn, você pode criar uma rede neural com essas três linhas de código, que tratam da maior parte do trabalho da perna para você. Vamos ver o que está acontecendo no script acima. A primeira etapa é importar a classe MLPClassifier da biblioteca sklearn.neural_network. Na segunda linha, essa classe é inicializada com dois parâmetros.\n",
    "\n",
    "O primeiro parâmetro, hidden_layer_sizes, é usado para definir o tamanho das camadas ocultas. Em nosso script, criaremos três camadas de 10 nós cada. Não existe uma fórmula padrão para escolher o número de camadas e nós para uma rede neural e isso varia bastante dependendo do problema em questão. A melhor maneira é tentar combinações diferentes e ver o que funciona melhor.\n",
    "\n",
    "O segundo parâmetro para MLPClassifier especifica o número de iterações ou épocas que você deseja que sua rede neural execute. Lembre-se, uma época é uma combinação de um ciclo de fase de avanço e propagação traseira.\n",
    "\n",
    "Por padrão, a função de ativação 'relu' é usada com o otimizador de custos 'adam'. No entanto, você pode alterar essas funções usando os parâmetros de ativação e resolução, respectivamente.\n",
    "\n",
    "Na terceira linha, a função de ajuste é usada para treinar o algoritmo em nossos dados de treinamento, ou seja, X_train e y_train.\n",
    "\n",
    "A etapa final é fazer previsões em nossos dados de teste. Para fazer isso, execute o seguinte script:"
   ]
  },
  {
   "cell_type": "code",
   "execution_count": 70,
   "metadata": {},
   "outputs": [],
   "source": [
    "predictions = mlp.predict(X_test)"
   ]
  },
  {
   "cell_type": "markdown",
   "metadata": {},
   "source": [
    "# Avaliando o algoritmo\n",
    "Criamos nosso algoritmo e fizemos algumas previsões no conjunto de dados de teste. Agora é a hora de avaliar o desempenho do nosso algoritmo. Para avaliar um algoritmo, as métricas mais usadas são uma matriz de confusão, precisão, recuperação e pontuação f1. Os métodos confusion_matrix e classification_report da biblioteca sklearn.metrics podem nos ajudar a encontrar essas pontuações. O script a seguir gera um relatório de avaliação para o nosso algoritmo:"
   ]
  },
  {
   "cell_type": "code",
   "execution_count": 71,
   "metadata": {},
   "outputs": [
    {
     "name": "stdout",
     "output_type": "stream",
     "text": [
      "[[ 5  0  0]\n",
      " [ 0 12  0]\n",
      " [ 0  1 12]]\n",
      "              precision    recall  f1-score   support\n",
      "\n",
      "           0       1.00      1.00      1.00         5\n",
      "           1       0.92      1.00      0.96        12\n",
      "           2       1.00      0.92      0.96        13\n",
      "\n",
      "    accuracy                           0.97        30\n",
      "   macro avg       0.97      0.97      0.97        30\n",
      "weighted avg       0.97      0.97      0.97        30\n",
      "\n"
     ]
    }
   ],
   "source": [
    "from sklearn.metrics import classification_report, confusion_matrix\n",
    "print(confusion_matrix(y_test,predictions))\n",
    "print(classification_report(y_test,predictions))\n",
    "\n",
    "# Este código acima gera o seguinte resultado:"
   ]
  },
  {
   "cell_type": "markdown",
   "metadata": {},
   "source": [
    "Você pode ver pela matriz de confusão que nossa rede neural classificou incorretamente apenas uma planta das 30 plantas em que testamos a rede. Além disso, a pontuação f1 de 0,97 é muito boa, considerando que tínhamos apenas 150 instâncias para treinar.\n",
    "\n",
    "Seus resultados podem ser ligeiramente diferentes destes, porque train_test_split divide aleatoriamente dados em conjuntos de treinamento e teste, portanto, nossas redes podem não ter sido treinadas / testadas nos mesmos dados. Mas, no geral, a precisão também deve ser superior a 90% em seus conjuntos de dados."
   ]
  },
  {
   "cell_type": "code",
   "execution_count": 73,
   "metadata": {},
   "outputs": [
    {
     "name": "stdout",
     "output_type": "stream",
     "text": [
      "0.03\n"
     ]
    },
    {
     "data": {
      "image/png": "[encoded data removed]",
      "text/plain": [
       "<Figure size 432x288 with 1 Axes>"
      ]
     },
     "metadata": {
      "needs_background": "light"
     },
     "output_type": "display_data"
    },
    {
     "data": {
      "text/plain": [
       "<Figure size 432x288 with 0 Axes>"
      ]
     },
     "metadata": {},
     "output_type": "display_data"
    }
   ],
   "source": [
    "%matplotlib inline\n",
    "import numpy as np\n",
    "import pandas as pd\n",
    "import matplotlib.pyplot as plt\n",
    "import matplotlib\n",
    "from IPython import display\n",
    "\n",
    "# Implementação manual do perceptron\n",
    "class perceptron(object):\n",
    "\n",
    "    # tol é um limiar para parar \n",
    "    def __init__(self, lrate = 1, w=None, maxiter=3, tol = 0, plot_= False):\n",
    "        self.lrate = lrate\n",
    "        self.maxiter = maxiter\n",
    "        self.tol = tol\n",
    "        self.plot_ = plot_\n",
    "        self.w = w # peso\n",
    "\n",
    "    # atualiza pesos\n",
    "    def __update_w(self, X_train, y_train):\n",
    "        for xi, yi in zip(X_train, y_train):\n",
    "            if int(np.sign(np.dot(xi, self.w.T))) != int(yi):\n",
    "                self.w += (xi.T * self.lrate)*yi\n",
    "\n",
    "    def __eval_perceptron(self, X_train, y_train):\n",
    "        error = 0\n",
    "        miss_indx = []\n",
    "        for xi, yi, i in zip(X_train, y_train, range(len(y_train))):\n",
    "            # multiplica entrada com pesos\n",
    "            # verifica se coincide com o esperado então computa erros\n",
    "            if int(np.sign(np.dot(xi, self.w.T))) != int(yi):\n",
    "                error += 1\n",
    "        return error\n",
    "\n",
    "    def _plot(self, X, y, true_w=None):\n",
    "        a, b = -self.w[1]/self.w[2], -self.w[0]/self.w[2] \n",
    "        l = np.linspace(-1,1)\n",
    "        plt.plot(l, a*l+b, 'green')\n",
    "        cols = {1: 'r', -1: 'b'}\n",
    "\n",
    "        for x,s in zip(X, y):\n",
    "            plt.plot(x[0], x[1], cols[s]+'o')\n",
    "\n",
    "        if not true_w is None:\n",
    "            a, b = -true_w[1]/true_w[2], -true_w[0]/true_w[2] \n",
    "            plt.plot(l, a*l+b, '-k')\n",
    "        plt.show()\n",
    "        plt.clf()\n",
    "        display.display(plt.gcf())\n",
    "        display.clear_output(wait=True)\n",
    "        plt.clf() # limpa a imagem do gráfico\n",
    "    \n",
    "    # método que faz o treinamento\n",
    "    def fit(self, X_train, y_train):\n",
    "        X_train = np.array(X_train)\n",
    "        X_train = np.insert(X_train, 0, 1, 1) # adiciona vies\n",
    "        y_train = np.array(y_train)\n",
    "\n",
    "        if self.w is None:\n",
    "            # se não tiver peso será definido\n",
    "            self.w = np.random.normal(0, 10, len(X_train[0]))\n",
    "        count = 0\n",
    "        \n",
    "        # loop  infinito\n",
    "        while True: \n",
    "            error = self.__eval_perceptron(X_train, y_train)\n",
    "            self.__update_w(X_train, y_train) # atualiza peso\n",
    "\n",
    "            count += 1\n",
    "            if error < self.tol or count > self.maxiter:\n",
    "                break\n",
    "\n",
    "            if self.plot_:\n",
    "                self._plot(X_train[:, 1:], y_train)\n",
    "\n",
    "    def predict(self, X_test):\n",
    "        X_test = np.insert(X_test, 0, 1, 1)\n",
    "        return np.sign(np.dot(X_test, self.w.T))\n",
    "\n",
    "if __name__ == '__main__':\n",
    "    # gera dados linearmente separáveis em 2D e os dados são randômicos\n",
    "    x1,y1,x2,y2 = [np.random.uniform(-1, 1) for i in range(4)] # define 2 pontos\n",
    "    w_target = np.array([x2*y1-x1*y2, y2-y1, x1-x2]) # gera vetor\n",
    "    a, b = -w_target[1]/w_target[2], -w_target[0]/w_target[2] # para desenhar\n",
    "\n",
    "    X = np.random.uniform(-1, 1, (100, 2)) # gera 100 pontos \n",
    "    y = np.sign(np.dot(np.insert(X, 0, 1, 1), w_target.T)) # gera targets\n",
    "\n",
    "    # usa perceptron para separar os dados\n",
    "    clf = perceptron(maxiter=10, lrate = 0.1, plot_ = True)\n",
    "    clf.fit(X, y)\n",
    "    pred = clf.predict(X)\n",
    "    print(sum(pred != y)/len(y)) # proporção de acertos\n",
    "\n",
    "    # mostra resultados\n",
    "    clf._plot(X, y, true_w = w_target)\n",
    "    \n",
    "%matplotlib notebook    "
   ]
  },
  {
   "cell_type": "code",
   "execution_count": 74,
   "metadata": {},
   "outputs": [
    {
     "data": {
      "text/plain": [
       "array([476.36987597])"
      ]
     },
     "execution_count": 74,
     "metadata": {},
     "output_type": "execute_result"
    }
   ],
   "source": [
    "np.random.normal(500, 550, 1)"
   ]
  },
  {
   "cell_type": "code",
   "execution_count": 75,
   "metadata": {},
   "outputs": [
    {
     "name": "stdout",
     "output_type": "stream",
     "text": [
      "[[ 0 10  0]\n",
      " [ 0 10  0]\n",
      " [ 0 10  0]]\n",
      "              precision    recall  f1-score   support\n",
      "\n",
      "           0       0.00      0.00      0.00        10\n",
      "           1       0.33      1.00      0.50        10\n",
      "           2       0.00      0.00      0.00        10\n",
      "\n",
      "    accuracy                           0.33        30\n",
      "   macro avg       0.11      0.33      0.17        30\n",
      "weighted avg       0.11      0.33      0.17        30\n",
      "\n",
      "[[ 0 10  0]\n",
      " [ 0 10  0]\n",
      " [ 0 10  0]]\n",
      "              precision    recall  f1-score   support\n",
      "\n",
      "           0       0.00      0.00      0.00        10\n",
      "           1       0.33      1.00      0.50        10\n",
      "           2       0.00      0.00      0.00        10\n",
      "\n",
      "    accuracy                           0.33        30\n",
      "   macro avg       0.11      0.33      0.17        30\n",
      "weighted avg       0.11      0.33      0.17        30\n",
      "\n"
     ]
    }
   ],
   "source": [
    "%matplotlib inline\n",
    "\n",
    "from sklearn import datasets\n",
    "from sklearn.model_selection import train_test_split\n",
    "from sklearn.metrics import classification_report, confusion_matrix\n",
    "import warnings as warn\n",
    "from sklearn.linear_model import Perceptron\n",
    "warn.filterwarnings('ignore')\n",
    "\n",
    "iris = datasets.load_iris()\n",
    "XIris = iris.data\n",
    "yIris = iris.target\n",
    "X_train, X_test, y_train, y_test = train_test_split(XIris, yIris, test_size = 0.2)\n",
    "\n",
    "\n",
    "clf = perceptron(maxiter=1000, lrate = 0.01, plot_ = False)\n",
    "clf.fit(X_train, y_train)\n",
    "pred = clf.predict(X_test)\n",
    "    \n",
    "print(confusion_matrix(y_test,pred))\n",
    "print(classification_report(y_test,pred))\n",
    "\n",
    "# sklearn\n",
    "\n",
    "# tol é o critério de parada. Se não for nenhum, as iterações irão parar\n",
    "#  quando (perda> perda anterior - tol).\n",
    "# max_iter -épocas, ou seja, o número máximo iterações sobre os dados de treinamento\n",
    "clfsklearn = Perceptron(tol=1e-3, random_state=0)\n",
    "clfsklearn.fit(X_train, y_train)\n",
    "predsklearn = clf.predict(X_test)\n",
    "print(confusion_matrix(y_test,predsklearn))\n",
    "print(classification_report(y_test,predsklearn))\n"
   ]
  },
  {
   "cell_type": "code",
   "execution_count": 17,
   "metadata": {},
   "outputs": [
    {
     "name": "stdout",
     "output_type": "stream",
     "text": [
      "[[14  0  0]\n",
      " [ 0 18  1]\n",
      " [ 0  0 12]]\n",
      "              precision    recall  f1-score   support\n",
      "\n",
      "           1       1.00      1.00      1.00        14\n",
      "           2       1.00      0.95      0.97        19\n",
      "           3       0.92      1.00      0.96        12\n",
      "\n",
      "    accuracy                           0.98        45\n",
      "   macro avg       0.97      0.98      0.98        45\n",
      "weighted avg       0.98      0.98      0.98        45\n",
      "\n",
      "Acurácia 0.978 \n",
      "[[14  0  0]\n",
      " [ 0 19  0]\n",
      " [ 0  1 11]]\n",
      "              precision    recall  f1-score   support\n",
      "\n",
      "           1       1.00      1.00      1.00        14\n",
      "           2       0.95      1.00      0.97        19\n",
      "           3       1.00      0.92      0.96        12\n",
      "\n",
      "    accuracy                           0.98        45\n",
      "   macro avg       0.98      0.97      0.98        45\n",
      "weighted avg       0.98      0.98      0.98        45\n",
      "\n",
      "Acurácia 1.000 \n"
     ]
    }
   ],
   "source": [
    "import numpy as np\n",
    "from sklearn.base import BaseEstimator, ClassifierMixin\n",
    "from sklearn.utils import shuffle\n",
    "import warnings as warn\n",
    "from sklearn import datasets\n",
    "\n",
    "# implementação manual do MultiLayerPerceptron\n",
    "class MLP(BaseEstimator, ClassifierMixin):\n",
    "\n",
    "    # método construtor- é o primeiro executado\n",
    "    def __init__(self,\n",
    "                 hid_nums=[100],\n",
    "                 epochs=1000,\n",
    "                 r=0.5,\n",
    "                 batch_size=20):\n",
    "\n",
    "        self.hid_nums = hid_nums\n",
    "        self.epochs = epochs\n",
    "        self.r = r\n",
    "        self.batch_size = batch_size\n",
    "\n",
    "    def __ltov(self, n, label):\n",
    "        \"\"\"\n",
    "        trasform label scalar to vector\n",
    "        Args:\n",
    "        n (int) : number of class, number of out layer neuron\n",
    "        label (int) : label\n",
    "        Exmples:\n",
    "        \"\"\"\n",
    "        return [0 if i != label else 1 for i in range(1, n + 1)]\n",
    "\n",
    "    def __add_bias(self, x_vs):\n",
    "        \"\"\"\n",
    "        add bias to list\n",
    "        Args:\n",
    "        x_vs [[float]] Array: vec to add bias\n",
    "        Returns:\n",
    "        [float]: added vec\n",
    "        Examples:\n",
    "        >>> mlp = MLP()\n",
    "        >>> mlp._MLP__add_bias(np.array([[1,2,3], [1,2,3]]))\n",
    "        array([[ 1.,  2.,  3.,  1.],\n",
    "               [ 1.,  2.,  3.,  1.]])\n",
    "        \"\"\"\n",
    "        return np.c_[x_vs, np.ones(x_vs.shape[0])]\n",
    "\n",
    "    def __get_delta(self, w, delta, u):\n",
    "        return self.__dsigmoid(u) * np.dot(w.T, delta)\n",
    "\n",
    "    def __sigmoid(self, x, a=1):\n",
    "        \"\"\"\n",
    "        sigmoid function\n",
    "        Args:\n",
    "        x float\n",
    "        Returns:\n",
    "        float\n",
    "        \"\"\"\n",
    "        return 1 / (1 + np.exp(-a * x))\n",
    "\n",
    "    def __dsigmoid(self, x, a=1):\n",
    "        \"\"\"\n",
    "        derivative of sigmoid function\n",
    "        Args:\n",
    "        x float\n",
    "        Returns:\n",
    "        float\n",
    "        \"\"\"\n",
    "        return a * self.__sigmoid(x) * (1.0 - self.__sigmoid(x))\n",
    "\n",
    "    def predict(self, x):\n",
    "        x = self.__add_bias(x)\n",
    "        y = x.T\n",
    "\n",
    "        for w in self.Ws:\n",
    "            y = self.__sigmoid(np.dot(w, y))\n",
    "\n",
    "        if self.out_num == 1:\n",
    "            y = y.T\n",
    "            y[y < 0.5] = -1\n",
    "            y[y >= 0.5] = 1\n",
    "            return y\n",
    "        else:\n",
    "            return np.argmax(y.T, 1) + np.ones(y.T.shape[0])\n",
    "\n",
    "    # treinamento do MLP\n",
    "    def fit(self, X, y):\n",
    "\n",
    "        # inicializar pesos\n",
    "        self.Ws = []\n",
    "\n",
    "        # número de dados de treinamento\n",
    "        self.data_num = X.shape[0]\n",
    "        assert(self.data_num > self.batch_size)\n",
    "\n",
    "        # número de neurônios de saída\n",
    "        self.out_num = max(y)\n",
    "\n",
    "        # corrigir rótulo de dados (inteiro) para array\n",
    "        y = np.array([self.__ltov(self.out_num, _y) for _y in y])\n",
    "\n",
    "        # adicionar bias\n",
    "        X = self.__add_bias(X)\n",
    "\n",
    "        # inicializar vetores de peso ocultos aleatoriamente\n",
    "        n = X.shape[1]\n",
    "        for m in self.hid_nums:\n",
    "            np.random.seed()\n",
    "            self.Ws.append(np.random.uniform(-1., 1., (m, n)))\n",
    "            n = m\n",
    "\n",
    "        # inicializar vecotors de peso de saída aleatoriamente\n",
    "        np.random.seed()\n",
    "        self.Ws.append(np.random.uniform(-1., 1., (self.out_num, n)))\n",
    "\n",
    "        # fitting - treinamento\n",
    "        for i in range(self.epochs):\n",
    "            X, y = shuffle(X, y, random_state=np.random.RandomState())\n",
    "            for index in range(0, self.data_num, self.batch_size):\n",
    "\n",
    "                end = index + self.batch_size\n",
    "                end_index = end if end <= self.data_num else self.data_num\n",
    "\n",
    "                _x = X[index:end_index]\n",
    "                _y = y[index:end_index]\n",
    "\n",
    "                zs, us, deltas, dws = [], [], [], []\n",
    "\n",
    "                z = _x.T\n",
    "                zs.append(z)\n",
    "\n",
    "                for w in self.Ws:\n",
    "                    u = np.dot(w, z)\n",
    "                    z = self.__sigmoid(u)\n",
    "                    us.append(u)\n",
    "                    zs.append(z)\n",
    "\n",
    "                # adicionar bias\n",
    "                for i in range(1, len(zs) - 1):\n",
    "                    zs[i][-1] = np.full((1, zs[i].shape[1]), -1.)\n",
    "\n",
    "                delta = (z - _y.T) * self.__dsigmoid(u)\n",
    "                deltas.append(delta)\n",
    "\n",
    "                for _u, _w in zip(reversed(us[:-1]), reversed(self.Ws)):\n",
    "                    delta = self.__get_delta(_w, delta, _u)\n",
    "                    deltas.append(delta)\n",
    "\n",
    "                for _delta, _z in zip(reversed(deltas), zs[:-1]):\n",
    "                    dws.append(np.dot(_delta, _z.T) / self.batch_size)\n",
    "\n",
    "                for j, dw in enumerate(dws):\n",
    "                    self.Ws[j] -= self.r * dw\n",
    "        return self\n",
    "\n",
    "def main():\n",
    "\n",
    "    from sklearn import datasets\n",
    "    from sklearn.preprocessing import normalize\n",
    "    from sklearn.model_selection import train_test_split\n",
    "\n",
    "    iris = datasets.load_iris()\n",
    "    XIris = iris.data\n",
    "    yIris = iris.target\n",
    "    mlp = MLP(hid_nums=[5], epochs=1000, r=0.1, batch_size=1)\n",
    "\n",
    "    yIris=yIris+1\n",
    "    X_train, X_test, y_train, y_test = train_test_split(XIris, yIris, test_size = 0.3)\n",
    "\n",
    "    mlp.fit(X_train, y_train)\n",
    "    pred = mlp.predict(X_test)\n",
    "    \n",
    "    print(confusion_matrix(y_test,pred))\n",
    "    print(classification_report(y_test,pred))\n",
    "    \n",
    "    print(\"Acurácia %0.3f \" % mlp.score(X_test, y_test))\n",
    "    \n",
    "    \n",
    "    #sklearn\n",
    "    from sklearn.neural_network import MLPClassifier\n",
    "    mlpsklearn = MLPClassifier(hidden_layer_sizes=(10,10), max_iter=1000, learning_rate_init=lr)\n",
    "    mlpsklearn.fit(X_train, y_train)\n",
    "    predictions_mlpsklearn = mlpsklearn.predict(X_test)\n",
    "    print(confusion_matrix(y_test,predictions_mlpsklearn))\n",
    "    print(classification_report(y_test,predictions_mlpsklearn))\n",
    "    print(\"Acurácia %0.3f \" % mlpsklearn.score(X_test, predictions_mlpsklearn))\n",
    "\n",
    "if __name__ == \"__main__\":\n",
    "    main()"
   ]
  },
  {
   "cell_type": "code",
   "execution_count": 6,
   "metadata": {},
   "outputs": [],
   "source": [
    "# Função de ativação\n",
    "\n",
    "import numpy as np\n",
    "# transfer function\n",
    "\n",
    "def stepFunction(soma):\n",
    "    if (soma >= 1):\n",
    "        return 1\n",
    "    return 0\n",
    "\n",
    "def sigmoidFunction(soma):\n",
    "    return 1 / (1 + np.exp(-soma))\n",
    "\n",
    "def tahnFunction(soma):\n",
    "    return (np.exp(soma) - np.exp(-soma)) / (np.exp(soma) + np.exp(-soma))\n",
    "\n",
    "def reluFunction(soma):\n",
    "    if soma >= 0:\n",
    "        return soma\n",
    "    return 0\n",
    "\n",
    "def linearFunction(soma):\n",
    "    return soma\n",
    "\n",
    "def softmaxFunction(x):\n",
    "    ex = np.exp(x)\n",
    "    return ex / ex.sum()\n"
   ]
  },
  {
   "cell_type": "code",
   "execution_count": 9,
   "metadata": {},
   "outputs": [
    {
     "name": "stdout",
     "output_type": "stream",
     "text": [
      "testeStepFunction  1\n"
     ]
    }
   ],
   "source": [
    "testeStepFunction = stepFunction(11)\n",
    "print(\"testeStepFunction \", testeStepFunction)\n"
   ]
  },
  {
   "cell_type": "code",
   "execution_count": 15,
   "metadata": {},
   "outputs": [
    {
     "name": "stdout",
     "output_type": "stream",
     "text": [
      "testeSigmoidFunction  0.289050497374996\n"
     ]
    }
   ],
   "source": [
    "testeSigmoidFunction = sigmoidFunction(-0.900)\n",
    "print(\"testeSigmoidFunction \", testeSigmoidFunction)"
   ]
  },
  {
   "cell_type": "code",
   "execution_count": 17,
   "metadata": {},
   "outputs": [],
   "source": [
    "teste = tahnFunction(-0.358)"
   ]
  },
  {
   "cell_type": "code",
   "execution_count": 20,
   "metadata": {},
   "outputs": [
    {
     "name": "stdout",
     "output_type": "stream",
     "text": [
      "reluFunction  0.358\n"
     ]
    }
   ],
   "source": [
    "testeReluFunction = reluFunction(0.358)\n",
    "print(\"reluFunction \", testeReluFunction)"
   ]
  },
  {
   "cell_type": "code",
   "execution_count": 22,
   "metadata": {},
   "outputs": [
    {
     "name": "stdout",
     "output_type": "stream",
     "text": [
      "softmaxFunction  [8.98582594e-37 6.05460190e-39 3.00662632e-39 4.24835426e-18\n",
      " 1.00000000e+00]\n"
     ]
    }
   ],
   "source": [
    "valores = [7.0, 2.0, 1.3, 50, 90]\n",
    "print(\"softmaxFunction \", softmaxFunction(valores))"
   ]
  },
  {
   "cell_type": "code",
   "execution_count": null,
   "metadata": {},
   "outputs": [],
   "source": [
    "teste = linearFunction(-0.358)\n",
    "valores = [7.0, 2.0, 1.3]\n",
    "print(softmaxFunction(valores))"
   ]
  },
  {
   "cell_type": "code",
   "execution_count": 19,
   "metadata": {},
   "outputs": [
    {
     "name": "stdout",
     "output_type": "stream",
     "text": [
      "0.5\n"
     ]
    }
   ],
   "source": [
    "import numpy as np\n",
    "def sigmoidFunction(soma):\n",
    "    return 1 / (1 + np.exp(-soma))\n",
    "teste = sigmoidFunction(0)\n",
    "print(teste)"
   ]
  },
  {
   "cell_type": "code",
   "execution_count": 4,
   "metadata": {},
   "outputs": [
    {
     "name": "stdout",
     "output_type": "stream",
     "text": [
      "Função de ativação linear:  40\n"
     ]
    }
   ],
   "source": [
    "# Função de ativação linear\n",
    "import numpy as np\n",
    "\n",
    "def linearFunction(soma):\n",
    "    return soma\n",
    "\n",
    "resultado_soma=40\n",
    "resultado_funcao_linear = linearFunction(resultado_soma)\n",
    "print(\"Função de ativação linear: \", resultado_funcao_linear)"
   ]
  }
 ],
 "metadata": {
  "kernelspec": {
   "display_name": "Python 3",
   "language": "python",
   "name": "python3"
  },
  "language_info": {
   "codemirror_mode": {
    "name": "ipython",
    "version": 3
   },
   "file_extension": ".py",
   "mimetype": "text/x-python",
   "name": "python",
   "nbconvert_exporter": "python",
   "pygments_lexer": "ipython3",
   "version": "3.8.2"
  }
 },
 "nbformat": 4,
 "nbformat_minor": 2
}
